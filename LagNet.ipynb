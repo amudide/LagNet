{
 "cells": [
  {
   "cell_type": "code",
   "execution_count": null,
   "id": "cd5e381f",
   "metadata": {},
   "outputs": [],
   "source": [
    "import pandas as pd\n",
    "import numpy as np\n",
    "import torch\n",
    "\n",
    "from lagnet import run"
   ]
  },
  {
   "cell_type": "code",
   "execution_count": null,
   "id": "790dd56d",
   "metadata": {},
   "outputs": [],
   "source": [
    "A = torch.tensor([[0, 1, 0, 0, 0],\n",
    "                  [0, 0, 1, 0, 0],\n",
    "                  [0, 0, 0, 1, 0],\n",
    "                  [0, 0, 0, 0, 1],\n",
    "                  [0, 0, 0, 0, 0]])\n",
    "\n",
    "X = torch.tensor([[0, 8, 2],\n",
    "                  [2, 1, 8],\n",
    "                  [1, 5, 1],\n",
    "                  [4, 9, 5],\n",
    "                  [2, 2, 9]])\n",
    "\n",
    "L=4\n",
    "K=3\n",
    "d=10\n",
    "target=2"
   ]
  },
  {
   "cell_type": "code",
   "execution_count": null,
   "id": "681b4646",
   "metadata": {},
   "outputs": [],
   "source": [
    "weights = run(A, X, L=L, K=K, d=d, target=target)"
   ]
  },
  {
   "cell_type": "code",
   "execution_count": null,
   "id": "9c56a7ef",
   "metadata": {},
   "outputs": [],
   "source": [
    "weights"
   ]
  },
  {
   "cell_type": "code",
   "execution_count": null,
   "id": "808d3e36",
   "metadata": {},
   "outputs": [],
   "source": []
  },
  {
   "cell_type": "code",
   "execution_count": null,
   "id": "e9e80d95",
   "metadata": {},
   "outputs": [],
   "source": []
  },
  {
   "cell_type": "code",
   "execution_count": null,
   "id": "f8184c6b",
   "metadata": {},
   "outputs": [],
   "source": []
  }
 ],
 "metadata": {
  "kernelspec": {
   "display_name": "Python 3 (ipykernel)",
   "language": "python",
   "name": "python3"
  },
  "language_info": {
   "codemirror_mode": {
    "name": "ipython",
    "version": 3
   },
   "file_extension": ".py",
   "mimetype": "text/x-python",
   "name": "python",
   "nbconvert_exporter": "python",
   "pygments_lexer": "ipython3",
   "version": "3.7.10"
  }
 },
 "nbformat": 4,
 "nbformat_minor": 5
}
